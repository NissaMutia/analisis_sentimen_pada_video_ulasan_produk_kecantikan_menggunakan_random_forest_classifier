{
  "nbformat": 4,
  "nbformat_minor": 0,
  "metadata": {
    "colab": {
      "name": "demo_video.ipynb",
      "provenance": [],
      "collapsed_sections": [],
      "toc_visible": true
    },
    "kernelspec": {
      "name": "python3",
      "display_name": "Python 3"
    }
  },
  "cells": [
    {
      "cell_type": "markdown",
      "metadata": {
        "id": "C5UZw2GF-gCk"
      },
      "source": [
        "FILE NEEDED :\n",
        "\n",
        "- video demo\n",
        "- dataset.csv\n",
        "- SW_tambahan.txt\n",
        "- normal_list.txt\n",
        "- Buat Folder \"wav\"\n",
        "---\n",
        "\n"
      ]
    },
    {
      "cell_type": "markdown",
      "metadata": {
        "id": "9ZU3pJvlqgI-"
      },
      "source": [
        "Penginputan Video Yang Mau Dites"
      ]
    },
    {
      "cell_type": "code",
      "metadata": {
        "colab": {
          "base_uri": "https://localhost:8080/"
        },
        "id": "TjeKbCKapxFI",
        "outputId": "76a2a79d-c5a8-4477-eac6-6898c2c31330"
      },
      "source": [
        "video = input(\"nama video yang akan dites: \")\n",
        "video = video+\".mp4\""
      ],
      "execution_count": null,
      "outputs": [
        {
          "output_type": "stream",
          "text": [
            "nama video yang akan dites: videoplayback\n"
          ],
          "name": "stdout"
        }
      ]
    },
    {
      "cell_type": "markdown",
      "metadata": {
        "id": "bsgrjT03rSMf"
      },
      "source": [
        "Install Library"
      ]
    },
    {
      "cell_type": "code",
      "metadata": {
        "colab": {
          "base_uri": "https://localhost:8080/"
        },
        "id": "8x38c3C-d4ey",
        "outputId": "b307a69e-3b44-416f-db86-6b7a9ca3752a"
      },
      "source": [
        "!pip install SpeechRecognition\n",
        "!pip install sastrawi\n",
        "import nltk\n",
        "nltk.download('stopwords')"
      ],
      "execution_count": null,
      "outputs": [
        {
          "output_type": "stream",
          "text": [
            "Requirement already satisfied: SpeechRecognition in /usr/local/lib/python3.6/dist-packages (3.8.1)\n",
            "Requirement already satisfied: sastrawi in /usr/local/lib/python3.6/dist-packages (1.0.1)\n",
            "[nltk_data] Downloading package stopwords to /root/nltk_data...\n",
            "[nltk_data]   Package stopwords is already up-to-date!\n"
          ],
          "name": "stdout"
        },
        {
          "output_type": "execute_result",
          "data": {
            "text/plain": [
              "True"
            ]
          },
          "metadata": {
            "tags": []
          },
          "execution_count": 10
        }
      ]
    },
    {
      "cell_type": "markdown",
      "metadata": {
        "id": "oakUZk4jrWIZ"
      },
      "source": [
        "Import Library & Setting"
      ]
    },
    {
      "cell_type": "code",
      "metadata": {
        "id": "j9iUUsbBeAgo"
      },
      "source": [
        "#Library Baca Data\n",
        "import pandas as pd\n",
        "\n",
        "#Library Video Menjadi Text\n",
        "import moviepy.editor as mp\n",
        "import speech_recognition as sr\n",
        "\n",
        "#Library Seleksi Data\n",
        "#Library Preprocessing\n",
        "from nltk.corpus import stopwords\n",
        "import re\n",
        "from sklearn.feature_extraction.text import CountVectorizer\n",
        "from Sastrawi.StopWordRemover.StopWordRemoverFactory import StopWordRemoverFactory, StopWordRemover, ArrayDictionary\n",
        "from Sastrawi.Stemmer.StemmerFactory import StemmerFactory\n",
        "\n",
        "#Library Train Data\n",
        "from sklearn.ensemble import RandomForestClassifier\n",
        "\n",
        "#--------------------------------------------------\n",
        "additional_stopwords = \"SW_tambahan.txt\"\n",
        "normalization_list = \"normal_list.txt\"\n",
        "\n",
        "#NORMLIZER\n",
        "normal_d = {}\n",
        "with open(normalization_list,'r') as f:\n",
        "  for line in f:\n",
        "    line = line.strip('\\n')\n",
        "    line = line.split(' ')\n",
        "    kunci = line[0]\n",
        "    nilai = line[1]\n",
        "    normal_d[kunci] = nilai\n",
        "\n",
        "#STEMMER\n",
        "stemfactory = StemmerFactory()\n",
        "stemmer = stemfactory.create_stemmer()\n",
        "\n",
        "#STOPWORDS SETTING\n",
        "indo_SW_NLTK = set(stopwords.words('indonesian'))\n",
        "stopword_tambahan = []\n",
        "with open(additional_stopwords,'r') as f:\n",
        "  for line in f:\n",
        "    line = line.strip()\n",
        "    stopword_tambahan.append(line) \n",
        "for i in indo_SW_NLTK:\n",
        "  kata = i\n",
        "  stopword_tambahan.append(i)\n",
        "stopword_all = StopWordRemoverFactory().get_stop_words() + stopword_tambahan"
      ],
      "execution_count": null,
      "outputs": []
    },
    {
      "cell_type": "markdown",
      "metadata": {
        "id": "n5hYnoDIHs9S"
      },
      "source": [
        "# **MEMBERSIHKAN DATA DEMO**"
      ]
    },
    {
      "cell_type": "markdown",
      "metadata": {
        "id": "wADxZouueSN1"
      },
      "source": [
        "---\n",
        "## Video Dijadiin Text\n",
        "---\n",
        "\n"
      ]
    },
    {
      "cell_type": "code",
      "metadata": {
        "colab": {
          "base_uri": "https://localhost:8080/"
        },
        "id": "mHAjZMuceKQ9",
        "outputId": "dcf2799f-7f09-4560-df7e-3f9c069e323b"
      },
      "source": [
        "title = video[:-4]\n",
        "print(\"MP4 to WAV preparation for \",video)\n",
        "tampung = \" \"\n",
        "clip = mp.AudioFileClip(video)\n",
        "\n",
        "clip_duration = int(clip.duration)\n",
        "total = int(int(clip.duration)/120)+1\n",
        "dur = int(clip_duration/total)\n",
        "\n",
        "chunk = 1\n",
        "akhir = 0\n",
        "tampung = \"\"\n",
        "\n",
        "print(\"durasi = \",clip_duration)\n",
        "print(\"total chunk : \",total)\n",
        "print(\"durasi chunk : \",dur)\n",
        "print()\n",
        "print(\"chunk processing...\")\n",
        "\n",
        "#MAKING WAV'S CHUNKS FROM MP4\n",
        "while(chunk<=total):\n",
        "  awal = akhir\n",
        "  akhir = dur*chunk\n",
        "  if (chunk==1):\n",
        "    print(\"chunk [1]\")\n",
        "    clips = clip.subclip(0,akhir)\n",
        "  elif (chunk==total):\n",
        "    print(\"chunk [last]\")\n",
        "    clips = clip.subclip(awal)\n",
        "  else:\n",
        "    print(\"chunk [\",str(chunk),\"]\")\n",
        "    clips = clip.subclip(awal,akhir)\n",
        "  print()\n",
        "  print(\"making chunk number,\",chunk,\"...\")\n",
        "  clips.write_audiofile((\"wav//\"+title+\"(\"+str(chunk)+\")\"+\".wav\"))\n",
        "\n",
        "  #CONVERTING WAV'S CHUNK TO TEXT\n",
        "  r = sr.Recognizer()\n",
        "  with sr.AudioFile(\"wav//\"+title+\"(\"+str(chunk)+\")\"+\".wav\") as sumber:\n",
        "    audio_text = r.listen(sumber)\n",
        "    try:\n",
        "      print('CONVERTING....')\n",
        "      text = r.recognize_google(audio_text,language=\"id-ID\")\n",
        "      tampung = tampung+' '+text\n",
        "    except:\n",
        "      print('Error converting : ',title)\n",
        "  chunk = chunk+1\n",
        "print(\"CONVERTED.\")\n",
        "#INPUT TEXT TO DICTIONARY\n",
        "data = {'file_name':[],'text':[]}\n",
        "data['file_name'].append(title)\n",
        "data['text'].append(tampung)"
      ],
      "execution_count": null,
      "outputs": [
        {
          "output_type": "stream",
          "text": [
            "MP4 to WAV preparation for  videoplayback.mp4\n",
            "durasi =  421\n",
            "total chunk :  4\n",
            "durasi chunk :  105\n",
            "\n",
            "chunk processing...\n",
            "chunk [1]\n",
            "\n",
            "making chunk number, 1 ...\n",
            "[MoviePy] Writing audio in wav//videoplayback(1).wav\n"
          ],
          "name": "stdout"
        },
        {
          "output_type": "stream",
          "text": [
            "100%|██████████| 2316/2316 [00:01<00:00, 2314.02it/s]"
          ],
          "name": "stderr"
        },
        {
          "output_type": "stream",
          "text": [
            "[MoviePy] Done.\n"
          ],
          "name": "stdout"
        },
        {
          "output_type": "stream",
          "text": [
            "\n"
          ],
          "name": "stderr"
        },
        {
          "output_type": "stream",
          "text": [
            "CONVERTING....\n",
            "chunk [ 2 ]\n",
            "\n",
            "making chunk number, 2 ...\n",
            "[MoviePy] Writing audio in wav//videoplayback(2).wav\n"
          ],
          "name": "stdout"
        },
        {
          "output_type": "stream",
          "text": [
            "100%|██████████| 2316/2316 [00:01<00:00, 2276.08it/s]"
          ],
          "name": "stderr"
        },
        {
          "output_type": "stream",
          "text": [
            "[MoviePy] Done.\n"
          ],
          "name": "stdout"
        },
        {
          "output_type": "stream",
          "text": [
            "\n"
          ],
          "name": "stderr"
        },
        {
          "output_type": "stream",
          "text": [
            "CONVERTING....\n",
            "chunk [ 3 ]\n",
            "\n",
            "making chunk number, 3 ...\n",
            "[MoviePy] Writing audio in wav//videoplayback(3).wav\n"
          ],
          "name": "stdout"
        },
        {
          "output_type": "stream",
          "text": [
            "100%|██████████| 2316/2316 [00:01<00:00, 2238.26it/s]"
          ],
          "name": "stderr"
        },
        {
          "output_type": "stream",
          "text": [
            "[MoviePy] Done.\n"
          ],
          "name": "stdout"
        },
        {
          "output_type": "stream",
          "text": [
            "\n"
          ],
          "name": "stderr"
        },
        {
          "output_type": "stream",
          "text": [
            "CONVERTING....\n",
            "chunk [last]\n",
            "\n",
            "making chunk number, 4 ...\n",
            "[MoviePy] Writing audio in wav//videoplayback(4).wav\n"
          ],
          "name": "stdout"
        },
        {
          "output_type": "stream",
          "text": [
            "100%|██████████| 2355/2355 [00:01<00:00, 2330.99it/s]"
          ],
          "name": "stderr"
        },
        {
          "output_type": "stream",
          "text": [
            "[MoviePy] Done.\n"
          ],
          "name": "stdout"
        },
        {
          "output_type": "stream",
          "text": [
            "\n"
          ],
          "name": "stderr"
        },
        {
          "output_type": "stream",
          "text": [
            "CONVERTING....\n",
            "CONVERTED.\n"
          ],
          "name": "stdout"
        }
      ]
    },
    {
      "cell_type": "markdown",
      "metadata": {
        "id": "MTrCpCNherFs"
      },
      "source": [
        "---\n",
        "## Preprocessing Text Demo\n",
        "--- "
      ]
    },
    {
      "cell_type": "code",
      "metadata": {
        "id": "kxF2y39Ke_lj",
        "colab": {
          "base_uri": "https://localhost:8080/"
        },
        "outputId": "742293f9-5c8d-4b15-9ff7-360c858305ae"
      },
      "source": [
        "data['cleared_text']=\" \"\n",
        "teks = data['text'][0]\n",
        "print(\"Mengecilkan huruf...\")\n",
        "teks = teks.lower()\n",
        "print(\"Mengilangkan angka...\")\n",
        "teks = re.sub(r\"\\d+\", \"\", teks)\n",
        "print(\"Tokenizing...\")\n",
        "teks = teks.split()\n",
        "\n",
        "print(\"Menormalisasi kata...\")\n",
        "#NORMALISASI\n",
        "tmp =[]\n",
        "for j in teks:\n",
        "  try: a = normal_d[j]\n",
        "  except : a=j\n",
        "  finally: tmp.append(a)\n",
        "teks = tmp\n",
        "\n",
        "print(\"Menghapus Stopwords...\")\n",
        "#STOPWORDS\n",
        "teks = [word for word in teks if not word in stopword_all]\n",
        "\n",
        "print(\"Memulai Stemming...\")\n",
        "#STEMMING\n",
        "teks = ' '.join(teks)\n",
        "teks = stemmer.stem(teks)\n",
        "\n",
        "print(\"Menyimpan...\")\n",
        "data['cleared_text']=teks"
      ],
      "execution_count": null,
      "outputs": [
        {
          "output_type": "stream",
          "text": [
            "Mengecilkan huruf...\n",
            "Mengilangkan angka...\n",
            "Tokenizing...\n",
            "Menormalisasi kata...\n",
            "Menghapus Stopwords...\n",
            "Memulai Stemming...\n",
            "Menyimpan...\n"
          ],
          "name": "stdout"
        }
      ]
    },
    {
      "cell_type": "markdown",
      "metadata": {
        "id": "0YJqLIJxHvED"
      },
      "source": [
        "#KLASIFIKASI DATA DEMO"
      ]
    },
    {
      "cell_type": "code",
      "metadata": {
        "colab": {
          "base_uri": "https://localhost:8080/"
        },
        "id": "K4kAOayZgaTd",
        "outputId": "48765dee-a3be-437c-fd07-6ba1ba8c4208"
      },
      "source": [
        "data_train = pd.read_csv(\"dataset.csv\")\n",
        "\n",
        "data_test = pd.DataFrame(data)\n",
        "data_test = data_test.drop(['text','file_name'],axis=1)\n",
        "\n",
        "#MEMBUAT MODEL BAG OF WORDS\n",
        "cv = CountVectorizer()\n",
        "X_train = cv.fit_transform(data_train['clear_text']).toarray()\n",
        "Y_train = data_train.iloc[:,1].values\n",
        "X_test = cv.transform(data_test['cleared_text']).toarray()\n",
        "\n",
        "# Metode Random Forest\n",
        "crf = RandomForestClassifier(n_estimators = 14, random_state = 0)\n",
        "crf.fit(X_train, Y_train)\n",
        "\n",
        "Y_pred = crf.predict(X_test)\n",
        "\n",
        "if Y_pred==1:\n",
        "  rate = 5\n",
        "  arti = \"Video berisi ulasan positif yang menyatakan pengguna menyukai keseluruhan produk.\"\n",
        "elif Y_pred==2:\n",
        "  rate = 4\n",
        "  arti = \"Video berisi ulasan agak positif yang menyatakan pengguna menyukai produk namun terdapat sedikit hal yang kurang disukai dari produk.\"\n",
        "elif Y_pred==3:\n",
        "  rate = 3\n",
        "  arti = \"Video berisi ulasan netral yang menyatakan tingkat kesukaan dan ketidaksukaan terhadap produk seimbang.\"\n",
        "elif Y_pred==4:\n",
        "  rate = 2\n",
        "  arti = \"Video berisi ulasan agak negatif yang menyatakan pengguna kurang menyukai produk namun masih ada hal yang disukai dari produk.\"\n",
        "else :\n",
        "  rate = 1\n",
        "  arti = \"Video berisi ulasan negatif yang menyatakan pengguna tidak menyukai keseluruhan produk.\"\n",
        "\n",
        "print(\"rating ulasan produk pada\",video,\"adalah\",rate)\n",
        "print(arti)"
      ],
      "execution_count": null,
      "outputs": [
        {
          "output_type": "stream",
          "text": [
            "rating ulasan produk pada videoplayback.mp4 adalah 4\n",
            "Video berisi ulasan agak positif yang menyatakan pengguna menyukai produk namun terdapat sedikit hal yang kurang disukai dari produk.\n"
          ],
          "name": "stdout"
        }
      ]
    },
    {
      "cell_type": "code",
      "metadata": {
        "id": "UiiSt-LW_Zzu"
      },
      "source": [
        "'''\n",
        "import shutil\n",
        "shutil.rmtree(\"wav\")\n",
        "'''"
      ],
      "execution_count": null,
      "outputs": []
    }
  ]
}