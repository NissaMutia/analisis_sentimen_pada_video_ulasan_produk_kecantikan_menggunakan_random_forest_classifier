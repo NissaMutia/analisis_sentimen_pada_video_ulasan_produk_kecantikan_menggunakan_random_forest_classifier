{
  "nbformat": 4,
  "nbformat_minor": 0,
  "metadata": {
    "colab": {
      "name": "demo_randomfromdata.ipynb",
      "provenance": []
    },
    "kernelspec": {
      "name": "python3",
      "display_name": "Python 3"
    }
  },
  "cells": [
    {
      "cell_type": "markdown",
      "metadata": {
        "id": "P2GIerWkDzEt"
      },
      "source": [
        "Data yang dibuthkan :\n",
        "*   randomdata.csv\n",
        "*   dataset.csv\n",
        "*   SW_tambahan.txt\n",
        "*   normal_list.txt\n",
        "\n"
      ]
    },
    {
      "cell_type": "markdown",
      "metadata": {
        "id": "PEA4gSdTuec7"
      },
      "source": [
        "Install pySastrawi dan download stopwords NLTK"
      ]
    },
    {
      "cell_type": "code",
      "metadata": {
        "id": "KBubQ3eauM9R",
        "colab": {
          "base_uri": "https://localhost:8080/"
        },
        "outputId": "88207f34-ea17-467f-c096-5f5813fc2659"
      },
      "source": [
        "!pip install PySastrawi\n",
        "import nltk\n",
        "nltk.download('stopwords')"
      ],
      "execution_count": null,
      "outputs": [
        {
          "output_type": "stream",
          "text": [
            "Collecting PySastrawi\n",
            "\u001b[?25l  Downloading https://files.pythonhosted.org/packages/61/84/b0a5454a040f81e81e6a95a5d5635f20ad43cc0c288f8b4966b339084962/PySastrawi-1.2.0-py2.py3-none-any.whl (210kB)\n",
            "\r\u001b[K     |█▋                              | 10kB 12.5MB/s eta 0:00:01\r\u001b[K     |███▏                            | 20kB 11.0MB/s eta 0:00:01\r\u001b[K     |████▊                           | 30kB 7.6MB/s eta 0:00:01\r\u001b[K     |██████▎                         | 40kB 7.3MB/s eta 0:00:01\r\u001b[K     |███████▉                        | 51kB 3.9MB/s eta 0:00:01\r\u001b[K     |█████████▍                      | 61kB 4.4MB/s eta 0:00:01\r\u001b[K     |███████████                     | 71kB 4.8MB/s eta 0:00:01\r\u001b[K     |████████████▌                   | 81kB 5.2MB/s eta 0:00:01\r\u001b[K     |██████████████                  | 92kB 5.3MB/s eta 0:00:01\r\u001b[K     |███████████████▋                | 102kB 5.4MB/s eta 0:00:01\r\u001b[K     |█████████████████▏              | 112kB 5.4MB/s eta 0:00:01\r\u001b[K     |██████████████████▊             | 122kB 5.4MB/s eta 0:00:01\r\u001b[K     |████████████████████▎           | 133kB 5.4MB/s eta 0:00:01\r\u001b[K     |█████████████████████▉          | 143kB 5.4MB/s eta 0:00:01\r\u001b[K     |███████████████████████▍        | 153kB 5.4MB/s eta 0:00:01\r\u001b[K     |█████████████████████████       | 163kB 5.4MB/s eta 0:00:01\r\u001b[K     |██████████████████████████▌     | 174kB 5.4MB/s eta 0:00:01\r\u001b[K     |████████████████████████████    | 184kB 5.4MB/s eta 0:00:01\r\u001b[K     |█████████████████████████████▋  | 194kB 5.4MB/s eta 0:00:01\r\u001b[K     |███████████████████████████████▏| 204kB 5.4MB/s eta 0:00:01\r\u001b[K     |████████████████████████████████| 215kB 5.4MB/s \n",
            "\u001b[?25hInstalling collected packages: PySastrawi\n",
            "Successfully installed PySastrawi-1.2.0\n",
            "[nltk_data] Downloading package stopwords to /root/nltk_data...\n",
            "[nltk_data]   Unzipping corpora/stopwords.zip.\n"
          ],
          "name": "stdout"
        },
        {
          "output_type": "execute_result",
          "data": {
            "text/plain": [
              "True"
            ]
          },
          "metadata": {
            "tags": []
          },
          "execution_count": 1
        }
      ]
    },
    {
      "cell_type": "markdown",
      "metadata": {
        "id": "glEyhfWCu2-f"
      },
      "source": [
        "Import Library"
      ]
    },
    {
      "cell_type": "code",
      "metadata": {
        "id": "UQA13Tpku6LS"
      },
      "source": [
        "import pandas as pd\n",
        "import numpy as np\n",
        "from nltk.corpus import stopwords\n",
        "import re\n",
        "from sklearn.feature_extraction.text import CountVectorizer\n",
        "from Sastrawi.StopWordRemover.StopWordRemoverFactory import StopWordRemoverFactory, StopWordRemover, ArrayDictionary\n",
        "from Sastrawi.Stemmer.StemmerFactory import StemmerFactory\n",
        "from sklearn.metrics import confusion_matrix,accuracy_score\n",
        "from sklearn.ensemble import RandomForestClassifier\n",
        "import seaborn as sns\n",
        "import matplotlib.pyplot as plt\n",
        "\n",
        "additional_stopwords = \"SW_tambahan.txt\"\n",
        "normalization_list = \"normal_list.txt\"\n",
        "\n",
        "#NORMLIZER\n",
        "normal_d = {}\n",
        "with open(normalization_list,'r') as f:\n",
        "  for line in f:\n",
        "    line = line.strip('\\n')\n",
        "    line = line.split(' ')\n",
        "    kunci = line[0]\n",
        "    nilai = line[1]\n",
        "    normal_d[kunci] = nilai\n",
        "\n",
        "#STEMMER\n",
        "stemfactory = StemmerFactory()\n",
        "stemmer = stemfactory.create_stemmer()\n",
        "\n",
        "#STOPWORDS SETTING\n",
        "indo_SW_NLTK = set(stopwords.words('indonesian'))\n",
        "stopword_tambahan = []\n",
        "with open(additional_stopwords,'r') as f:\n",
        "  for line in f:\n",
        "    line = line.strip()\n",
        "    stopword_tambahan.append(line) \n",
        "for i in indo_SW_NLTK:\n",
        "  kata = i\n",
        "  stopword_tambahan.append(i)\n",
        "stopword_all = StopWordRemoverFactory().get_stop_words() + stopword_tambahan"
      ],
      "execution_count": null,
      "outputs": []
    },
    {
      "cell_type": "markdown",
      "metadata": {
        "id": "p9hWwU5C9VBX"
      },
      "source": [
        "preprocessing"
      ]
    },
    {
      "cell_type": "code",
      "metadata": {
        "colab": {
          "base_uri": "https://localhost:8080/"
        },
        "id": "SAvhUcWFy5zE",
        "outputId": "34eae0bd-5680-4bc9-d587-93074c21fe64"
      },
      "source": [
        "data=pd.read_csv('randomdata.csv')\n",
        "data['cleared_text']=' '\n",
        "data['class']=0\n",
        "for i in range(len(data)):\n",
        "  print(\"Memproses data index ke-\",i)\n",
        "  teks = data['text'][i]\n",
        "  rating = data['rating'][i]\n",
        "  print(\"Mengecilkan huruf...\")\n",
        "  teks = teks.lower()\n",
        "  print(\"Mengilangkan angka...\")\n",
        "  teks = re.sub(r\"\\d+\", \"\", teks)\n",
        "  print(\"Tokenizing...\")\n",
        "  teks = teks.split()\n",
        "\n",
        "  print(\"Menormalisasi kata...\")\n",
        "  #NORMALISASI\n",
        "  tmp =[]\n",
        "  for j in teks:\n",
        "    try: a = normal_d[j]\n",
        "    except : a=j\n",
        "    finally: tmp.append(a)\n",
        "  teks = tmp\n",
        "\n",
        "  print(\"Menghapus Stopwords...\")\n",
        "  #STOPWORDS\n",
        "  teks = [word for word in teks if not word in stopword_all]\n",
        "\n",
        "  print(\"Memulai Stemming...\")\n",
        "  #STEMMING\n",
        "  teks = ' '.join(teks)\n",
        "  teks = stemmer.stem(teks)\n",
        "  \n",
        "  if rating==1:\n",
        "    klas = 5\n",
        "  elif rating==2:\n",
        "    klas = 4\n",
        "  elif rating==3:\n",
        "    klas = 3\n",
        "  elif rating==4:\n",
        "    klas = 2\n",
        "  elif rating==5:\n",
        "    klas = 1\n",
        "  else :\n",
        "    klas = 0\n",
        "\n",
        "  print(\"Menyimpan...\")\n",
        "  data['cleared_text'][i]=teks\n",
        "  data['class'][i]=klas\n",
        "  print(\"Data index ke-\",i,\" berhasil diproses.\")\n",
        "  print()\n",
        "\n",
        "print(\"preprocessing selesai.\")"
      ],
      "execution_count": null,
      "outputs": [
        {
          "output_type": "stream",
          "text": [
            "Memproses data index ke- 0\n",
            "Mengecilkan huruf...\n",
            "Mengilangkan angka...\n",
            "Tokenizing...\n",
            "Menormalisasi kata...\n",
            "Menghapus Stopwords...\n",
            "Memulai Stemming...\n",
            "Menyimpan...\n",
            "Data index ke- 0  berhasil diproses.\n",
            "\n",
            "Memproses data index ke- 1\n",
            "Mengecilkan huruf...\n",
            "Mengilangkan angka...\n",
            "Tokenizing...\n",
            "Menormalisasi kata...\n",
            "Menghapus Stopwords...\n",
            "Memulai Stemming...\n",
            "Menyimpan...\n",
            "Data index ke- 1  berhasil diproses.\n",
            "\n",
            "Memproses data index ke- 2\n",
            "Mengecilkan huruf...\n",
            "Mengilangkan angka...\n",
            "Tokenizing...\n",
            "Menormalisasi kata...\n",
            "Menghapus Stopwords...\n",
            "Memulai Stemming...\n",
            "Menyimpan...\n",
            "Data index ke- 2  berhasil diproses.\n",
            "\n",
            "Memproses data index ke- 3\n",
            "Mengecilkan huruf...\n",
            "Mengilangkan angka...\n",
            "Tokenizing...\n",
            "Menormalisasi kata...\n",
            "Menghapus Stopwords...\n",
            "Memulai Stemming...\n",
            "Menyimpan...\n",
            "Data index ke- 3  berhasil diproses.\n",
            "\n",
            "Memproses data index ke- 4\n",
            "Mengecilkan huruf...\n",
            "Mengilangkan angka...\n",
            "Tokenizing...\n",
            "Menormalisasi kata...\n",
            "Menghapus Stopwords...\n",
            "Memulai Stemming...\n",
            "Menyimpan...\n",
            "Data index ke- 4  berhasil diproses.\n",
            "\n",
            "preprocessing selesai.\n"
          ],
          "name": "stdout"
        },
        {
          "output_type": "stream",
          "text": [
            "/usr/local/lib/python3.6/dist-packages/ipykernel_launcher.py:47: SettingWithCopyWarning: \n",
            "A value is trying to be set on a copy of a slice from a DataFrame\n",
            "\n",
            "See the caveats in the documentation: https://pandas.pydata.org/pandas-docs/stable/user_guide/indexing.html#returning-a-view-versus-a-copy\n",
            "/usr/local/lib/python3.6/dist-packages/ipykernel_launcher.py:48: SettingWithCopyWarning: \n",
            "A value is trying to be set on a copy of a slice from a DataFrame\n",
            "\n",
            "See the caveats in the documentation: https://pandas.pydata.org/pandas-docs/stable/user_guide/indexing.html#returning-a-view-versus-a-copy\n"
          ],
          "name": "stderr"
        }
      ]
    },
    {
      "cell_type": "markdown",
      "metadata": {
        "id": "4Q2VBTab9Y47"
      },
      "source": [
        "Bag Of Word dan Matriks"
      ]
    },
    {
      "cell_type": "code",
      "metadata": {
        "colab": {
          "base_uri": "https://localhost:8080/",
          "height": 494
        },
        "id": "nOH8Om2s9fIA",
        "outputId": "ca9d86ac-560f-4912-ed91-8d8519b2f2de"
      },
      "source": [
        "data_train = pd.read_csv(\"dataset.csv\")\n",
        "data_test = data.drop(['text','file_name','rating'],axis=1)\n",
        "\n",
        "#MEMBUAT MODEL BAG OF WORDS\n",
        "cv = CountVectorizer()\n",
        "X_train = cv.fit_transform(data_train['clear_text']).toarray()\n",
        "Y_train = data_train.iloc[:,1].values\n",
        "X_test = cv.transform(data_test['cleared_text']).toarray()\n",
        "Y_test = data_test.iloc[:,1].values\n",
        "\n",
        "# Metode Random Forest\n",
        "\n",
        "classifier = RandomForestClassifier(n_estimators = 5, random_state=0)\n",
        "classifier.fit(X_train, Y_train)\n",
        "\n",
        "y_pred = classifier.predict(X_test) \n",
        "\n",
        "print(\"Isi variabel y_test : \\n\",Y_test)\n",
        "print()\n",
        "print(\"Isi variabel y_pred : \\n\",y_pred)\n",
        "print()\n",
        "print(\"nilai akurasi : \",accuracy_score(Y_test, y_pred))\n",
        "print(\"persentase akurasi : \",accuracy_score(Y_test, y_pred)*100,\"%\")\n",
        "print()\n",
        "\n",
        "cm = confusion_matrix(Y_test, y_pred)\n",
        "#print(cm)\n",
        "\n",
        "angka=0\n",
        "class_names=[]\n",
        "for i in range(6):\n",
        "  if i in Y_test:\n",
        "    class_names.append(i)\n",
        "\n",
        "print(\"Confusion Matrix\")\n",
        "import seaborn as sns\n",
        "import matplotlib.pyplot as plt\n",
        "f, ax = plt.subplots(figsize=(8,5))\n",
        "sns.heatmap(confusion_matrix(Y_test, y_pred), annot=True)\n",
        "tick_marks = np.arange(len(class_names))+0.5\n",
        "plt.xticks(tick_marks, class_names)\n",
        "plt.yticks(tick_marks, class_names)\n",
        "plt.show()"
      ],
      "execution_count": null,
      "outputs": [
        {
          "output_type": "stream",
          "text": [
            "Isi variabel y_test : \n",
            " [5 2 4 3 1]\n",
            "\n",
            "Isi variabel y_pred : \n",
            " [2 2 4 3 1]\n",
            "\n",
            "nilai akurasi :  0.8\n",
            "persentase akurasi :  80.0 %\n",
            "\n",
            "Confusion Matrix\n"
          ],
          "name": "stdout"
        },
        {
          "output_type": "display_data",
          "data": {
            "image/png": "[encoded data removed]",
            "text/plain": [
              "<Figure size 576x360 with 2 Axes>"
            ]
          },
          "metadata": {
            "tags": [],
            "needs_background": "light"
          }
        }
      ]
    },
    {
      "cell_type": "code",
      "metadata": {
        "colab": {
          "base_uri": "https://localhost:8080/",
          "height": 69
        },
        "id": "iJuP3Ex4rFJO",
        "outputId": "6a964f5f-dc51-4448-cab9-e0423029b062"
      },
      "source": [
        "'''\n",
        "classifier.estimators_\n",
        "from sklearn.tree import export_graphviz\n",
        "from graphviz import Source\n",
        "from sklearn import tree\n",
        "plt.figure(figsize=(15,10))\n",
        "for i in range(len(classifier.estimators_)):\n",
        "  tree.plot_tree(classifier.estimators_[i],filled=True)\n",
        "'''"
      ],
      "execution_count": null,
      "outputs": [
        {
          "output_type": "execute_result",
          "data": {
            "application/vnd.google.colaboratory.intrinsic+json": {
              "type": "string"
            },
            "text/plain": [
              "'\\nclassifier.estimators_\\nfrom sklearn.tree import export_graphviz\\nfrom graphviz import Source\\nfrom sklearn import tree\\nplt.figure(figsize=(15,10))\\nfor i in range(len(classifier.estimators_)):\\n  tree.plot_tree(classifier.estimators_[i],filled=True)\\n'"
            ]
          },
          "metadata": {
            "tags": []
          },
          "execution_count": 6
        }
      ]
    }
  ]
}